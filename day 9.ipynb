{
 "cells": [
  {
   "cell_type": "code",
   "execution_count": 60,
   "metadata": {},
   "outputs": [
    {
     "name": "stdout",
     "output_type": "stream",
     "text": [
      "True\n",
      "False\n"
     ]
    }
   ],
   "source": [
    " s=\"221810306019\"\n",
    "s1=\"Ghanatheyakash\"\n",
    "print(s.isnumeric())\n",
    "print(s1.isnumeric()) \n"
   ]
  },
  {
   "cell_type": "code",
   "execution_count": 7,
   "metadata": {},
   "outputs": [
    {
     "name": "stdout",
     "output_type": "stream",
     "text": [
      "False\n",
      "True\n"
     ]
    }
   ],
   "source": [
    "s=\"221810306039\"\n",
    "s1=\"nikhilbommakanti\"\n",
    "print(s.isalpha())\n",
    "print(s1.isalpha()) \n"
   ]
  },
  {
   "cell_type": "code",
   "execution_count": 9,
   "metadata": {},
   "outputs": [
    {
     "name": "stdout",
     "output_type": "stream",
     "text": [
      "False\n",
      "True\n"
     ]
    }
   ],
   "source": [
    "s=\"221810306039\"\n",
    "s1=\"nikhilbommakanti\"\n",
    "print(s.isalpha())\n",
    "print(s1.isalpha()) "
   ]
  },
  {
   "cell_type": "code",
   "execution_count": 10,
   "metadata": {},
   "outputs": [
    {
     "name": "stdout",
     "output_type": "stream",
     "text": [
      "True\n",
      "False\n"
     ]
    }
   ],
   "source": [
    "s=\"ghanatheyakash\"\n",
    "s1=\"GHANATHEYAKASH\"\n",
    "print(s.islower())\n",
    "print(s1.islower()) \n"
   ]
  },
  {
   "cell_type": "code",
   "execution_count": 11,
   "metadata": {},
   "outputs": [
    {
     "name": "stdout",
     "output_type": "stream",
     "text": [
      "False\n",
      "True\n"
     ]
    }
   ],
   "source": [
    "s=\"ghanatheyakash\"\n",
    "s1=\" \"\n",
    "print(s.isspace())\n",
    "print(s1.isspace()) \n"
   ]
  },
  {
   "cell_type": "code",
   "execution_count": 12,
   "metadata": {},
   "outputs": [
    {
     "name": "stdout",
     "output_type": "stream",
     "text": [
      "['A', 'k', 'a', 's', 'h']\n"
     ]
    }
   ],
   "source": [
    "s=\"Akash\"\n",
    "lst=list(s)\n",
    "print(lst)"
   ]
  },
  {
   "cell_type": "code",
   "execution_count": 29,
   "metadata": {},
   "outputs": [
    {
     "data": {
      "text/plain": [
       "'AAKASH'"
      ]
     },
     "execution_count": 29,
     "metadata": {},
     "output_type": "execute_result"
    }
   ],
   "source": [
    "s='aakash'\n",
    "s.upper()\n",
    "\n"
   ]
  },
  {
   "cell_type": "code",
   "execution_count": 31,
   "metadata": {},
   "outputs": [
    {
     "name": "stdout",
     "output_type": "stream",
     "text": [
      "t1[0]= python\n",
      "t1[-1]= machine language\n",
      "t1[1:3]= ('programing', 1989)\n"
     ]
    }
   ],
   "source": [
    "t1=(\"python\",\"programing\",1989,2019,\"machine language\")\n",
    "print(\"t1[0]=\",t1[0])\n",
    "print(\"t1[-1]=\",t1[-1])\n",
    "print(\"t1[1:3]=\",t1[1:3])"
   ]
  },
  {
   "cell_type": "code",
   "execution_count": 32,
   "metadata": {},
   "outputs": [
    {
     "name": "stdout",
     "output_type": "stream",
     "text": [
      "python\n",
      "machine language\n",
      "('programing', 1989)\n"
     ]
    }
   ],
   "source": [
    "t1=(\"python\",\"programing\",1989,2019,\"machine language\")\n",
    "print(t1[0])\n",
    "print(t1[-1])\n",
    "print(t1[1:3])"
   ]
  },
  {
   "cell_type": "code",
   "execution_count": 70,
   "metadata": {},
   "outputs": [
    {
     "name": "stdout",
     "output_type": "stream",
     "text": [
      "{'name': 'akash', 'age': 19, 'email-id': 'akashghanathey@gmail.com', 'mobileno': 9550368909}\n",
      "{'name': 'akash', 'age': 19, 'email-id': 'akashghanathey@gmail.com', 'mobileno': 9550368909}\n",
      "{'name': 'akash', 'age': 19, 'email-id': 'akashghanathey@gmail.com', 'mobileno': 9550368909, 'address': 'hyderabad'}\n",
      "{'name': 'akash', 'age': 19, 'email-id': 'akashghanathey@gmail.com', 'mobileno': 9550368909}\n"
     ]
    }
   ],
   "source": [
    "t1={\"name\":\"akash\",\"age\":19,\"email-id\":\"akashghanathey@gmail.com\",\"mobileno\":9550368909}\n",
    "t2=t1.copy()\n",
    "print(t1)\n",
    "print(t2)\n",
    "t1['address']='hyderabad'\n",
    "print(t1)\n",
    "print(t2)"
   ]
  },
  {
   "cell_type": "code",
   "execution_count": 44,
   "metadata": {},
   "outputs": [
    {
     "name": "stdout",
     "output_type": "stream",
     "text": [
      "contact akash added\n",
      "contact harshith added\n",
      "contact nikki added\n"
     ]
    }
   ],
   "source": [
    "contacts={}\n",
    "def addcontact(name,phone):\n",
    "    if name not in contacts:\n",
    "        contacts[name]=phone\n",
    "        print(\"contact %s added\"%name)\n",
    "    else:\n",
    "        print(\"contact %sis already existed\"%name)\n",
    "    return\n",
    "\n",
    "addcontact(\"akash\",547653)\n",
    "addcontact(\"harshith\",65464365)\n",
    "addcontact(\"nikki\",523465)"
   ]
  },
  {
   "cell_type": "code",
   "execution_count": 45,
   "metadata": {},
   "outputs": [
    {
     "name": "stdout",
     "output_type": "stream",
     "text": [
      "akash : 547653\n",
      "nikki : 654\n",
      "harshith : 420\n",
      " kaniksh doesnt exist because thanos snaped\n"
     ]
    }
   ],
   "source": [
    "def searchcontact(name,phone):\n",
    "    if name in contacts:\n",
    "        contacts[name]=phone\n",
    "        print(name,\":\",contacts[name])\n",
    "    else:\n",
    "         print(\" %s doesnt exist because thanos snaped\"%name)\n",
    "    return\n",
    "\n",
    "searchcontact(\"akash\",547653)\n",
    "searchcontact(\"nikki\",654)\n",
    "searchcontact(\"harshith\",420)\n",
    "searchcontact(\"kaniksh\",654)"
   ]
  },
  {
   "cell_type": "code",
   "execution_count": 55,
   "metadata": {},
   "outputs": [
    {
     "name": "stdout",
     "output_type": "stream",
     "text": [
      "2 Contacts added Succesfully\n"
     ]
    },
    {
     "data": {
      "text/plain": [
       "{'kuuuuu': 69, 'harshit': 420}"
      ]
     },
     "execution_count": 55,
     "metadata": {},
     "output_type": "execute_result"
    }
   ],
   "source": [
    "##New contacts is given in dictionary\n",
    "def importContacts(newContacts):\n",
    "    contacts.update(newContacts)\n",
    "    print(len(newContacts.keys()),\"Contacts added Succesfully\")\n",
    "    return newContacts\n",
    "newContacts= {'kuuuuu':69,'harshit':420}\n",
    "importContacts(newContacts)\n",
    "\n"
   ]
  },
  {
   "cell_type": "code",
   "execution_count": 54,
   "metadata": {},
   "outputs": [
    {
     "name": "stdout",
     "output_type": "stream",
     "text": [
      "2 Contacts added Succesfully\n"
     ]
    },
    {
     "data": {
      "text/plain": [
       "{'Dinesh': 8008001, 'Ajay': 910000}"
      ]
     },
     "execution_count": 54,
     "metadata": {},
     "output_type": "execute_result"
    }
   ],
   "source": [
    "##New contacts is given in dictionary\n",
    "def importContacts(newContacts):\n",
    "    contacts.update(newContacts)\n",
    "    print(len(newContacts.keys()),\"Contacts added Succesfully\")\n",
    "    return newContacts\n",
    "newContacts= {'Dinesh':8008001,'Ajay': 910000}\n",
    "importContacts(newContacts)\n",
    "\n"
   ]
  },
  {
   "cell_type": "code",
   "execution_count": 53,
   "metadata": {},
   "outputs": [
    {
     "name": "stdout",
     "output_type": "stream",
     "text": [
      "nikki is not exists in contacts\n",
      "harshith is not exists in contacts\n"
     ]
    },
    {
     "data": {
      "text/plain": [
       "{'akash': 547653,\n",
       " 'Dinesh': 8008001,\n",
       " 'Ajay': 910000,\n",
       " 'kaniksh': 69,\n",
       " 'harshit': 420,\n",
       " 'kuuuuu': 69}"
      ]
     },
     "execution_count": 53,
     "metadata": {},
     "output_type": "execute_result"
    }
   ],
   "source": [
    "##Delete contacts from list\n",
    "def deleteContact(name):\n",
    "    if name in contacts:\n",
    "        del contacts[name]\n",
    "        print(name,\"is deleted in contacts\")\n",
    "    else:\n",
    "        print(name,\"is not exists in contacts\")\n",
    "    return contacts\n",
    "deleteContact(\"nikki\")\n",
    "deleteContact(\"harshith\")"
   ]
  },
  {
   "cell_type": "code",
   "execution_count": null,
   "metadata": {},
   "outputs": [],
   "source": []
  }
 ],
 "metadata": {
  "kernelspec": {
   "display_name": "Python 3",
   "language": "python",
   "name": "python3"
  },
  "language_info": {
   "codemirror_mode": {
    "name": "ipython",
    "version": 3
   },
   "file_extension": ".py",
   "mimetype": "text/x-python",
   "name": "python",
   "nbconvert_exporter": "python",
   "pygments_lexer": "ipython3",
   "version": "3.7.3"
  }
 },
 "nbformat": 4,
 "nbformat_minor": 2
}
