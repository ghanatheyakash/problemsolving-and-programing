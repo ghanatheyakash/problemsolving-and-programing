{
 "cells": [
  {
   "cell_type": "code",
   "execution_count": 6,
   "metadata": {},
   "outputs": [
    {
     "name": "stdout",
     "output_type": "stream",
     "text": [
      "element not found\n"
     ]
    }
   ],
   "source": [
    "def binarysearch(a,iindex,rindex,taritem):\n",
    "    while iindex<=rindex:\n",
    "        mindex=iindex+(rindex-iindex)//2;\n",
    "        if(a[mindex]==taritem):\n",
    "           return mindex\n",
    "        elif(a[mindex]>taritem):\n",
    "            rindex=mindex-1\n",
    "        else:\n",
    "            iindex=mindex+1\n",
    "    return -1\n",
    "list1=[1,4,9,15,25,45,57,88,98]    \n",
    "res=binarysearch(list1,0,8,818)\n",
    "if(res!=-1):\n",
    "   print(\"item is found\")\n",
    "else:\n",
    "   print(\"element not found\")"
   ]
  },
  {
   "cell_type": "code",
   "execution_count": 49,
   "metadata": {},
   "outputs": [
    {
     "name": "stdout",
     "output_type": "stream",
     "text": [
      "1 3 4 6 8 9 14 "
     ]
    }
   ],
   "source": [
    "def bubblesort(a):\n",
    "     for i in range(len(a)-1):\n",
    "            for j in range(len(a)-1):\n",
    "                if a[j]>a[j+1]:\n",
    "                    a[j],a[j+1]=a[j+1],a[j]\n",
    "                \n",
    "     for i in range(len(a)):\n",
    "          print(a[i],end=\" \")\n",
    "\n",
    "list1=[4,6,3,8,1,9,14]        \n",
    "bubblesort(list1)\n"
   ]
  },
  {
   "cell_type": "code",
   "execution_count": 56,
   "metadata": {},
   "outputs": [
    {
     "name": "stdout",
     "output_type": "stream",
     "text": [
      "applications\n",
      "str[0]= a\n",
      "str[1]= p\n",
      "str[-1]= s\n",
      "str[-3]= o\n",
      "str[1:5]= ppli\n",
      "str[:5]= appli\n",
      "str[5:-2]= catio\n",
      "str[::-1]= snoitacilppa\n"
     ]
    }
   ],
   "source": [
    "str=\"applications\"\n",
    "print(str)\n",
    "print(\"str[0]=\",str[0])\n",
    "print(\"str[1]=\",str[1])\n",
    "print(\"str[-1]=\",str[-1])\n",
    "print(\"str[-3]=\",str[-3])\n",
    "print(\"str[1:5]=\",str[1:5])\n",
    "print(\"str[:5]=\",str[:5])\n",
    "print(\"str[5:-2]=\",str[5:-2])\n",
    "print(\"str[::-1]=\",str[::-1])"
   ]
  },
  {
   "cell_type": "code",
   "execution_count": 2,
   "metadata": {},
   "outputs": [
    {
     "name": "stdout",
     "output_type": "stream",
     "text": [
      "enter the number456\n",
      "3\n"
     ]
    }
   ],
   "source": [
    "n=int(input(\"enter the number\"))\n",
    "cnt=0;\n",
    "while(n!=0):\n",
    "    cnt=cnt+1;\n",
    "    n=n//10;\n",
    "print(cnt)    \n",
    "\n",
    "\n",
    "  "
   ]
  },
  {
   "cell_type": "code",
   "execution_count": 3,
   "metadata": {},
   "outputs": [
    {
     "name": "stdout",
     "output_type": "stream",
     "text": [
      "False\n",
      "True\n"
     ]
    }
   ],
   "source": [
    "def ispalindrome(s):\n",
    "    if s == s[:: -1]:\n",
    "        return True\n",
    "    else:\n",
    "        return False\n",
    "print(ispalindrome(\"nikhil\"))\n",
    "print(ispalindrome(\"racecar\"))\n"
   ]
  },
  {
   "cell_type": "code",
   "execution_count": 5,
   "metadata": {},
   "outputs": [
    {
     "name": "stdout",
     "output_type": "stream",
     "text": [
      "5\n"
     ]
    }
   ],
   "source": [
    "def countLowercase(str):\n",
    "    cnt=0;\n",
    "    lst=list(str)\n",
    "    for x in range(len(lst)):\n",
    "        if ord(lst[x])>=97 and ord(lst[x])<=122 :\n",
    "            cnt=cnt+1;\n",
    "    return cnt;\n",
    "\n",
    "print(countLowercase(\"nikki\"))\n"
   ]
  },
  {
   "cell_type": "code",
   "execution_count": 14,
   "metadata": {},
   "outputs": [
    {
     "name": "stdout",
     "output_type": "stream",
     "text": [
      "5\n"
     ]
    }
   ],
   "source": [
    "def countuppercase(str):\n",
    "    cnt=0;\n",
    "    lst=list(str)\n",
    "    for x in range(len(lst)):\n",
    "        if ord(lst[x])>=65 and ord(lst[x])<=90 :\n",
    "            cnt=cnt+1;\n",
    "    return cnt;\n",
    "\n",
    "print(countuppercase(\"NIKKI\"))\n"
   ]
  },
  {
   "cell_type": "code",
   "execution_count": 17,
   "metadata": {},
   "outputs": [
    {
     "data": {
      "text/plain": [
       "6"
      ]
     },
     "execution_count": 17,
     "metadata": {},
     "output_type": "execute_result"
    }
   ],
   "source": [
    "def count(str):\n",
    "    list1=list(str)\n",
    "    return len(str)\n",
    "count(\"aakash\")\n"
   ]
  },
  {
   "cell_type": "code",
   "execution_count": 16,
   "metadata": {},
   "outputs": [
    {
     "data": {
      "text/plain": [
       "3"
      ]
     },
     "execution_count": 16,
     "metadata": {},
     "output_type": "execute_result"
    }
   ],
   "source": [
    "def count(str):\n",
    "    list1=list(str)\n",
    "    return len(str)\n",
    "count(\"App\")"
   ]
  },
  {
   "cell_type": "code",
   "execution_count": 18,
   "metadata": {},
   "outputs": [
    {
     "name": "stdout",
     "output_type": "stream",
     "text": [
      "16\n",
      "10\n"
     ]
    }
   ],
   "source": [
    "def sumOnlyEvenDigits(str):\n",
    "    sum=0\n",
    "    lst=list(str)\n",
    "    for x in range(len(lst)):\n",
    "      if ord(lst[x]) >= 48 and ord(lst[x]) <=57:\n",
    "          ac=ord(lst[x]) - 48\n",
    "          if(ac%2==0):\n",
    "               sum=sum+ac\n",
    "    return sum\n",
    "            \n",
    "print(sumOnlyEvenDigits(\"Application1889\"))\n",
    "print(sumOnlyEvenDigits(\"Tel574s69t\"))"
   ]
  },
  {
   "cell_type": "code",
   "execution_count": null,
   "metadata": {},
   "outputs": [],
   "source": []
  }
 ],
 "metadata": {
  "kernelspec": {
   "display_name": "Python 3",
   "language": "python",
   "name": "python3"
  },
  "language_info": {
   "codemirror_mode": {
    "name": "ipython",
    "version": 3
   },
   "file_extension": ".py",
   "mimetype": "text/x-python",
   "name": "python",
   "nbconvert_exporter": "python",
   "pygments_lexer": "ipython3",
   "version": "3.7.3"
  }
 },
 "nbformat": 4,
 "nbformat_minor": 2
}
